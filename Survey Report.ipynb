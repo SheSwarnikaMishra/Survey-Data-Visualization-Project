{
  "nbformat": 4,
  "nbformat_minor": 0,
  "metadata": {
    "colab": {
      "provenance": []
    },
    "kernelspec": {
      "name": "python3",
      "display_name": "Python 3"
    },
    "language_info": {
      "name": "python"
    }
  },
  "cells": [
    {
      "cell_type": "code",
      "execution_count": 2,
      "metadata": {
        "id": "y4Framp7KhzR"
      },
      "outputs": [],
      "source": [
        "# Import libraries\n",
        "import pandas as pd\n",
        "import numpy as np\n",
        "import matplotlib.pyplot as plt\n",
        "import seaborn as sns\n",
        "import plotly.express as px\n",
        "import plotly.graph_objects as go\n",
        "from plotly.subplots import make_subplots\n",
        "from matplotlib.backends.backend_pdf import PdfPages"
      ]
    },
    {
      "cell_type": "code",
      "source": [
        "# Set style for better visuals\n",
        "plt.style.use('seaborn-v0_8')\n",
        "sns.set_palette('husl')"
      ],
      "metadata": {
        "id": "aLQzKd6TKqMw"
      },
      "execution_count": 6,
      "outputs": []
    },
    {
      "cell_type": "code",
      "source": [
        "# Load external dataset\n",
        "url = 'https://raw.githubusercontent.com/fivethirtyeight/data/master/star-wars-survey/StarWars.csv'\n",
        "df = pd.read_csv(url, encoding='ISO-8859-1')"
      ],
      "metadata": {
        "id": "ApaXjXTPKxIx"
      },
      "execution_count": 7,
      "outputs": []
    },
    {
      "cell_type": "code",
      "source": [
        "# Data preprocessing\n",
        "# Select relevant columns and clean data\n",
        "df = df.rename(columns={\n",
        "    'Have you seen any of the 6 films in the Star Wars franchise?': 'Seen_Any_Film',\n",
        "    'Do you consider yourself to be a fan of the Star Wars film franchise?': 'Fan_Status',\n",
        "    'Which of the following Star Wars films have you seen? Please select all that apply.': 'Seen_Ep1',\n",
        "    'Unnamed: 4': 'Seen_Ep2',\n",
        "    'Unnamed: 5': 'Seen_Ep3',\n",
        "    'Unnamed: 6': 'Seen_Ep4',\n",
        "    'Unnamed: 7': 'Seen_Ep5',\n",
        "    'Unnamed: 8': 'Seen_Ep6',\n",
        "    'Please rank the Star Wars films in order of preference with 1 being your favorite film in the franchise and 6 being your least favorite film.': 'Rank_Ep1',\n",
        "    'Unnamed: 10': 'Rank_Ep2',\n",
        "    'Unnamed: 11': 'Rank_Ep3',\n",
        "    'Unnamed: 12': 'Rank_Ep4',\n",
        "    'Unnamed: 13': 'Rank_Ep5',\n",
        "    'Unnamed: 14': 'Rank_Ep6',\n",
        "    'Please state whether you view the following characters favorably, unfavorably, or are unfamiliar with him/her.': 'Han_Solo_Rating',\n",
        "    'Unnamed: 16': 'Luke_Skywalker_Rating'\n",
        "})"
      ],
      "metadata": {
        "id": "PY_c1Z5oK9uQ"
      },
      "execution_count": 8,
      "outputs": []
    },
    {
      "cell_type": "code",
      "source": [
        "#Clean and preprocess\n",
        "df = df.iloc[1:]  # Remove first row (question descriptions)\n",
        "df['Fan_Status'] = df['Fan_Status'].fillna('No').replace({'Yes': 'Yes', 'No': 'No'})\n",
        "df['Seen_Any_Film'] = df['Seen_Any_Film'].replace({'Yes': 'Yes', 'No': 'No'})\n",
        "df[['Rank_Ep1', 'Rank_Ep2', 'Rank_Ep3', 'Rank_Ep4', 'Rank_Ep5', 'Rank_Ep6']] = df[\n",
        "    ['Rank_Ep1', 'Rank_Ep2', 'Rank_Ep3', 'Rank_Ep4', 'Rank_Ep5', 'Rank_Ep6']\n",
        "].apply(pd.to_numeric, errors='coerce')"
      ],
      "metadata": {
        "colab": {
          "base_uri": "https://localhost:8080/"
        },
        "id": "IivnIN8aLByZ",
        "outputId": "76752464-66f1-4476-991a-b2caf4454a9b"
      },
      "execution_count": 9,
      "outputs": [
        {
          "output_type": "stream",
          "name": "stderr",
          "text": [
            "/tmp/ipython-input-9-2625353914.py:3: SettingWithCopyWarning: \n",
            "A value is trying to be set on a copy of a slice from a DataFrame.\n",
            "Try using .loc[row_indexer,col_indexer] = value instead\n",
            "\n",
            "See the caveats in the documentation: https://pandas.pydata.org/pandas-docs/stable/user_guide/indexing.html#returning-a-view-versus-a-copy\n",
            "  df['Fan_Status'] = df['Fan_Status'].fillna('No').replace({'Yes': 'Yes', 'No': 'No'})\n",
            "/tmp/ipython-input-9-2625353914.py:4: SettingWithCopyWarning: \n",
            "A value is trying to be set on a copy of a slice from a DataFrame.\n",
            "Try using .loc[row_indexer,col_indexer] = value instead\n",
            "\n",
            "See the caveats in the documentation: https://pandas.pydata.org/pandas-docs/stable/user_guide/indexing.html#returning-a-view-versus-a-copy\n",
            "  df['Seen_Any_Film'] = df['Seen_Any_Film'].replace({'Yes': 'Yes', 'No': 'No'})\n",
            "/tmp/ipython-input-9-2625353914.py:5: SettingWithCopyWarning: \n",
            "A value is trying to be set on a copy of a slice from a DataFrame.\n",
            "Try using .loc[row_indexer,col_indexer] = value instead\n",
            "\n",
            "See the caveats in the documentation: https://pandas.pydata.org/pandas-docs/stable/user_guide/indexing.html#returning-a-view-versus-a-copy\n",
            "  df[['Rank_Ep1', 'Rank_Ep2', 'Rank_Ep3', 'Rank_Ep4', 'Rank_Ep5', 'Rank_Ep6']] = df[\n"
          ]
        }
      ]
    },
    {
      "cell_type": "code",
      "source": [
        "# Create correlation matrix for movie rankings\n",
        "corr_matrix = df[['Rank_Ep1', 'Rank_Ep2', 'Rank_Ep3', 'Rank_Ep4', 'Rank_Ep5', 'Rank_Ep6']].corr()"
      ],
      "metadata": {
        "id": "7DttHmtgLF_g"
      },
      "execution_count": 10,
      "outputs": []
    },
    {
      "cell_type": "code",
      "source": [
        "# Calculate average rankings by fan status\n",
        "avg_rankings = df.groupby('Fan_Status')[['Rank_Ep1', 'Rank_Ep2', 'Rank_Ep3', 'Rank_Ep4', 'Rank_Ep5', 'Rank_Ep6']].mean().reset_index()"
      ],
      "metadata": {
        "id": "EqP_aYD7LIsD"
      },
      "execution_count": 11,
      "outputs": []
    },
    {
      "cell_type": "code",
      "source": [
        "# Create PDF for static visualizations\n",
        "with PdfPages('star_wars_survey_visualizations.pdf') as pdf:\n",
        "    # Bar Chart: Fan Status by Seen Any Film\n",
        "    plt.figure(figsize=(10, 6))\n",
        "    sns.countplot(data=df, x='Seen_Any_Film', hue='Fan_Status')\n",
        "    plt.title('Fan Status by Whether Respondents Have Seen Any Star Wars Film')\n",
        "    plt.xlabel('Seen Any Star Wars Film')\n",
        "    plt.ylabel('Count')\n",
        "    plt.legend(title='Fan Status')\n",
        "    plt.tight_layout()\n",
        "    pdf.savefig()\n",
        "    plt.close()\n",
        "\n",
        "    # Pie Chart: Fan Status Distribution\n",
        "    plt.figure(figsize=(8, 8))\n",
        "    fan_counts = df['Fan_Status'].value_counts()\n",
        "    plt.pie(fan_counts, labels=fan_counts.index, autopct='%1.1f%%', startangle=90)\n",
        "    plt.title('Star Wars Fan Status Distribution')\n",
        "    plt.tight_layout()\n",
        "    pdf.savefig()\n",
        "    plt.close()"
      ],
      "metadata": {
        "id": "SzuACuHULLKU"
      },
      "execution_count": 15,
      "outputs": []
    },
    {
      "cell_type": "code",
      "source": [
        "# Pie Chart: Fan Status Distribution\n",
        "plt.figure(figsize=(8, 8))\n",
        "fan_counts = df['Fan_Status'].value_counts()\n",
        "plt.pie(fan_counts, labels=fan_counts.index, autopct='%1.1f%%', startangle=90)\n",
        "plt.title('Star Wars Fan Status Distribution')\n",
        "plt.tight_layout()\n",
        "pdf.savefig()\n",
        "plt.close()"
      ],
      "metadata": {
        "id": "vQ9DqQFpLRdD"
      },
      "execution_count": 21,
      "outputs": []
    },
    {
      "cell_type": "code",
      "source": [
        "# Heatmap: Correlation of Movie Rankings\n",
        "plt.figure(figsize=(8, 6))\n",
        "sns.heatmap(corr_matrix, annot=True, cmap='coolwarm', vmin=-1, vmax=1)\n",
        "plt.title('Correlation Matrix of Star Wars Movie Rankings')\n",
        "plt.tight_layout()\n",
        "pdf.savefig()\n",
        "plt.close()"
      ],
      "metadata": {
        "id": "yL2mpQHNLVGX"
      },
      "execution_count": 23,
      "outputs": []
    },
    {
      "cell_type": "code",
      "source": [
        "# Interactive Dashboard with Plotly\n",
        "fig = make_subplots(rows=2, cols=2,\n",
        "                    specs=[[{'type': 'bar'}, {'type': 'pie'}],\n",
        "                           [{'type': 'heatmap'}, {'type': 'bar'}]],\n",
        "                    subplot_titles=('Fan Status by Seen Any Film', 'Fan Status Distribution',\n",
        "                                    'Correlation Matrix of Rankings', 'Average Rankings by Fan Status'))"
      ],
      "metadata": {
        "id": "q0RmDpzoLsL-"
      },
      "execution_count": 24,
      "outputs": []
    },
    {
      "cell_type": "code",
      "source": [
        "# Fan Status Bar Chart\n",
        "fan_counts = df.groupby(['Seen_Any_Film', 'Fan_Status']).size().unstack().fillna(0)\n",
        "for fan_status in fan_counts.columns:\n",
        "    fig.add_trace(\n",
        "        go.Bar(x=fan_counts.index, y=fan_counts[fan_status], name=fan_status),\n",
        "        row=1, col=1\n",
        "    )"
      ],
      "metadata": {
        "id": "3BzZV2jvL1O_"
      },
      "execution_count": 25,
      "outputs": []
    },
    {
      "cell_type": "code",
      "source": [
        "# Fan Status Pie Chart\n",
        "fan_counts_total = df['Fan_Status'].value_counts()\n",
        "fig.add_trace(\n",
        "    go.Pie(labels=fan_counts_total.index, values=fan_counts_total.values, name='Fan Status'),\n",
        "    row=1, col=2\n",
        ")\n",
        "\n",
        "# Correlation Heatmap\n",
        "fig.add_trace(\n",
        "    go.Heatmap(z=corr_matrix.values, x=corr_matrix.columns, y=corr_matrix.index,\n",
        "               colorscale='RdBu', zmin=-1, zmax=1),\n",
        "    row=2, col=1\n",
        ")\n",
        "\n",
        "# Average Rankings Bar Chart\n",
        "for episode in ['Rank_Ep1', 'Rank_Ep2', 'Rank_Ep3', 'Rank_Ep4', 'Rank_Ep5', 'Rank_Ep6']:\n",
        "    fig.add_trace(\n",
        "        go.Bar(x=avg_rankings['Fan_Status'], y=avg_rankings[episode],\n",
        "               name=episode.replace('Rank_', 'Episode ')),\n",
        "        row=2, col=2\n",
        "    )\n",
        "\n",
        "# Update layout\n",
        "fig.update_layout(\n",
        "    height=800,\n",
        "    width=1000,\n",
        "    title_text='Star Wars Survey Dashboard',\n",
        "    showlegend=True\n",
        ")\n",
        "\n",
        "# Save as HTML\n",
        "fig.write_html('star_wars_survey_dashboard.html')\n",
        "\n",
        "# Print key takeaways\n",
        "print(\"Key Takeaways:\")\n",
        "print(\"1. Fan Status by Viewing: The bar chart shows the relationship between whether respondents have seen any Star Wars films and their fan status.\")\n",
        "print(\"2. Fan Distribution: The pie chart indicates the proportion of respondents who identify as Star Wars fans.\")\n",
        "print(\"3. Ranking Correlations: The heatmap reveals how rankings of different Star Wars episodes correlate with each other.\")\n",
        "print(\"4. Rankings by Fan Status: The average rankings bar chart highlights differences in movie preferences between fans and non-fans.\")\n",
        "print(\"\\nOutputs:\")\n",
        "print(\"- Static visualizations saved as 'star_wars_survey_visualizations.pdf'\")\n",
        "print(\"- Interactive dashboard saved as 'star_wars_survey_dashboard.html'\")"
      ],
      "metadata": {
        "colab": {
          "base_uri": "https://localhost:8080/"
        },
        "id": "Mi6jCVv2L3Y1",
        "outputId": "21c0cb9a-231e-4470-812d-233b2afe5dee"
      },
      "execution_count": 27,
      "outputs": [
        {
          "output_type": "stream",
          "name": "stdout",
          "text": [
            "Key Takeaways:\n",
            "1. Fan Status by Viewing: The bar chart shows the relationship between whether respondents have seen any Star Wars films and their fan status.\n",
            "2. Fan Distribution: The pie chart indicates the proportion of respondents who identify as Star Wars fans.\n",
            "3. Ranking Correlations: The heatmap reveals how rankings of different Star Wars episodes correlate with each other.\n",
            "4. Rankings by Fan Status: The average rankings bar chart highlights differences in movie preferences between fans and non-fans.\n",
            "\n",
            "Outputs:\n",
            "- Static visualizations saved as 'star_wars_survey_visualizations.pdf'\n",
            "- Interactive dashboard saved as 'star_wars_survey_dashboard.html'\n"
          ]
        }
      ]
    },
    {
      "cell_type": "code",
      "source": [],
      "metadata": {
        "id": "rgIo_f0cL-K_"
      },
      "execution_count": null,
      "outputs": []
    }
  ]
}